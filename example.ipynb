{
 "cells": [
  {
   "cell_type": "markdown",
   "metadata": {},
   "source": [
    "# Pipelines usage example"
   ]
  },
  {
   "cell_type": "markdown",
   "metadata": {},
   "source": [
    "### Import defined pipelines\n",
    "\n",
    "In order to use pipelines in the example, we have to import the pipeline classes from pipelines module."
   ]
  },
  {
   "cell_type": "code",
   "execution_count": null,
   "metadata": {},
   "outputs": [],
   "source": [
    "from pipelines.pipelines import Classification, CortexDepthEst"
   ]
  },
  {
   "cell_type": "markdown",
   "metadata": {},
   "source": [
    "### Prepare subject data\n",
    "\n",
    "Here we define a function to get subject data used as an input of our pipeline.\n",
    "`DATA_DIR` is the location where we save our dataset.\n",
    "In the function `get_nighres_subject_data()`, `in_dir` is the directory where the subject data will be saved. Basically, we use `subject_id` to create multiple directories for multiple subjects.\n",
    "Finally, the function call to Nighres data downloading function `download_7T_TRT` and return a dictionary containing subject data and subject id."
   ]
  },
  {
   "cell_type": "code",
   "execution_count": null,
   "metadata": {},
   "outputs": [],
   "source": [
    "import os\n",
    "import nighres\n",
    "\n",
    "DATA_DIR = 'data/data_sets/'\n",
    "\n",
    "\n",
    "def get_nighres_subject_data(subject_id):\n",
    "    in_dir = os.path.join(os.getcwd(), '{0}{1}/'.format(DATA_DIR, subject_id))\n",
    "    result = nighres.data.download_7T_TRT(in_dir, subject_id=subject_id)\n",
    "    return {\n",
    "        'images': result,\n",
    "        'subject_id': subject_id\n",
    "    }\n"
   ]
  },
  {
   "cell_type": "markdown",
   "metadata": {},
   "source": [
    "And then we define a function to get data of multiple subjects."
   ]
  },
  {
   "cell_type": "code",
   "execution_count": null,
   "metadata": {},
   "outputs": [],
   "source": [
    "def get_data():\n",
    "    dataset = [get_nighres_subject_data('sub001_sess1'),\n",
    "               get_nighres_subject_data('sub002_sess1'),\n",
    "               get_nighres_subject_data('sub003_sess1')]\n",
    "    return dataset\n"
   ]
  },
  {
   "cell_type": "markdown",
   "metadata": {},
   "source": [
    "### Create and run a pipeline\n",
    "\n",
    "Creation of a pipeline is really simple:"
   ]
  },
  {
   "cell_type": "code",
   "execution_count": null,
   "metadata": {},
   "outputs": [],
   "source": [
    "pipeline = CortexDepthEst(get_data())"
   ]
  },
  {
   "cell_type": "markdown",
   "metadata": {},
   "source": [
    "Then, call `compute()` method to process:"
   ]
  },
  {
   "cell_type": "code",
   "execution_count": null,
   "metadata": {},
   "outputs": [],
   "source": [
    "result = pipeline.compute()"
   ]
  }
 ],
 "metadata": {
  "kernelspec": {
   "display_name": "Python 3",
   "language": "python",
   "name": "python3"
  },
  "language_info": {
   "codemirror_mode": {
    "name": "ipython",
    "version": 3
   },
   "file_extension": ".py",
   "mimetype": "text/x-python",
   "name": "python",
   "nbconvert_exporter": "python",
   "pygments_lexer": "ipython3",
   "version": "3.5.2"
  }
 },
 "nbformat": 4,
 "nbformat_minor": 2
}
